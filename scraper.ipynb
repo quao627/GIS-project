{
 "cells": [
  {
   "cell_type": "code",
   "execution_count": 1,
   "metadata": {},
   "outputs": [],
   "source": [
    "import requests\n",
    "import json\n",
    "import urllib.request\n",
    "from pprint import pprint\n",
    "from html_table_parser import HTMLTableParser\n",
    "import pandas as pd"
   ]
  },
  {
   "cell_type": "code",
   "execution_count": 18,
   "metadata": {},
   "outputs": [],
   "source": [
    "url = \"https://tnsos.org/tsla/imagesearch/index.php?find=fort&page=\"\n",
    "pages = 25\n",
    "image_url = \"https://tnsos.org/tsla/imagesearch/images/\"\n",
    "\n",
    "def url_get_contents(url):\n",
    "    req = urllib.request.Request(url=url)\n",
    "    f = urllib.request.urlopen(req)\n",
    "    return f.read()\n",
    "\n",
    "xhtml = url_get_contents(url+str(1)).decode('utf-8') \n",
    "p = HTMLTableParser() \n",
    "p.feed(xhtml) \n",
    "items = p.tables[0]\n",
    "for i in range(2, pages+1):\n",
    "    xhtml = url_get_contents(url+str(i)).decode('utf-8') \n",
    "    p = HTMLTableParser() \n",
    "    p.feed(xhtml) \n",
    "    items.extend(p.tables[0][1:])"
   ]
  },
  {
   "cell_type": "code",
   "execution_count": 19,
   "metadata": {},
   "outputs": [],
   "source": [
    "df = pd.DataFrame(items)\n",
    "new_header = df.iloc[0]\n",
    "df = df[1:]\n",
    "df.columns = new_header"
   ]
  },
  {
   "cell_type": "code",
   "execution_count": 20,
   "metadata": {},
   "outputs": [
    {
     "data": {
      "text/html": [
       "<div>\n",
       "<style scoped>\n",
       "    .dataframe tbody tr th:only-of-type {\n",
       "        vertical-align: middle;\n",
       "    }\n",
       "\n",
       "    .dataframe tbody tr th {\n",
       "        vertical-align: top;\n",
       "    }\n",
       "\n",
       "    .dataframe thead th {\n",
       "        text-align: right;\n",
       "    }\n",
       "</style>\n",
       "<table border=\"1\" class=\"dataframe\">\n",
       "  <thead>\n",
       "    <tr style=\"text-align: right;\">\n",
       "      <th></th>\n",
       "      <th>Image</th>\n",
       "      <th>ID</th>\n",
       "      <th>Description</th>\n",
       "      <th>Place</th>\n",
       "      <th>Subject Terms</th>\n",
       "      <th>Date</th>\n",
       "      <th>Accession No. and File Location</th>\n",
       "      <th>Citation</th>\n",
       "    </tr>\n",
       "  </thead>\n",
       "  <tbody>\n",
       "    <tr>\n",
       "      <th>1</th>\n",
       "      <td></td>\n",
       "      <td>413</td>\n",
       "      <td>Black Patch Tobacco Association, view #3.  Par...</td>\n",
       "      <td>Guthrie (Ky.)</td>\n",
       "      <td>Organizations; Parades &amp; processions; Floats (...</td>\n",
       "      <td>1904 September 24</td>\n",
       "      <td>Drawer 2, Folder 166</td>\n",
       "      <td>View Full Citation</td>\n",
       "    </tr>\n",
       "    <tr>\n",
       "      <th>2</th>\n",
       "      <td></td>\n",
       "      <td>415</td>\n",
       "      <td>Black Patch Tobacco Association, view #5.  Par...</td>\n",
       "      <td>Guthrie (Ky.)</td>\n",
       "      <td>Organizations; Parades &amp; processions; Floats (...</td>\n",
       "      <td>1904 September 24</td>\n",
       "      <td>Drawer 2, Folder 168</td>\n",
       "      <td>View Full Citation</td>\n",
       "    </tr>\n",
       "    <tr>\n",
       "      <th>3</th>\n",
       "      <td></td>\n",
       "      <td>754</td>\n",
       "      <td>Chattanooga, Tennessee.  View showing Raccoon ...</td>\n",
       "      <td>Chattanooga (Tenn.)</td>\n",
       "      <td>Mountains; Prisons; Forts &amp; fortifications; Hi...</td>\n",
       "      <td>1864</td>\n",
       "      <td>Drawer 4, Folder 97</td>\n",
       "      <td>View Full Citation</td>\n",
       "    </tr>\n",
       "    <tr>\n",
       "      <th>4</th>\n",
       "      <td></td>\n",
       "      <td>1247</td>\n",
       "      <td>Plaque at Fort Nashborough honoring Colonel Jo...</td>\n",
       "      <td>Nashville (Tenn.)</td>\n",
       "      <td>Plaques; Pioneers</td>\n",
       "      <td></td>\n",
       "      <td>Drawer 6, Folder 150</td>\n",
       "      <td>View Full Citation</td>\n",
       "    </tr>\n",
       "    <tr>\n",
       "      <th>5</th>\n",
       "      <td></td>\n",
       "      <td>1474</td>\n",
       "      <td>Cornelia Fort.</td>\n",
       "      <td></td>\n",
       "      <td>Women; Air pilots</td>\n",
       "      <td>1946</td>\n",
       "      <td>Drawer 7, Folder 195</td>\n",
       "      <td>View Full Citation</td>\n",
       "    </tr>\n",
       "  </tbody>\n",
       "</table>\n",
       "</div>"
      ],
      "text/plain": [
       "0 Image    ID                                        Description  \\\n",
       "1         413  Black Patch Tobacco Association, view #3.  Par...   \n",
       "2         415  Black Patch Tobacco Association, view #5.  Par...   \n",
       "3         754  Chattanooga, Tennessee.  View showing Raccoon ...   \n",
       "4        1247  Plaque at Fort Nashborough honoring Colonel Jo...   \n",
       "5        1474                                     Cornelia Fort.   \n",
       "\n",
       "0                Place                                      Subject Terms  \\\n",
       "1        Guthrie (Ky.)  Organizations; Parades & processions; Floats (...   \n",
       "2        Guthrie (Ky.)  Organizations; Parades & processions; Floats (...   \n",
       "3  Chattanooga (Tenn.)  Mountains; Prisons; Forts & fortifications; Hi...   \n",
       "4    Nashville (Tenn.)                                  Plaques; Pioneers   \n",
       "5                                                       Women; Air pilots   \n",
       "\n",
       "0               Date Accession No. and File Location            Citation  \n",
       "1  1904 September 24            Drawer 2, Folder 166  View Full Citation  \n",
       "2  1904 September 24            Drawer 2, Folder 168  View Full Citation  \n",
       "3               1864             Drawer 4, Folder 97  View Full Citation  \n",
       "4                               Drawer 6, Folder 150  View Full Citation  \n",
       "5               1946            Drawer 7, Folder 195  View Full Citation  "
      ]
     },
     "execution_count": 20,
     "metadata": {},
     "output_type": "execute_result"
    }
   ],
   "source": [
    "df.head()"
   ]
  },
  {
   "cell_type": "code",
   "execution_count": 24,
   "metadata": {},
   "outputs": [
    {
     "data": {
      "text/plain": [
       "244"
      ]
     },
     "execution_count": 24,
     "metadata": {},
     "output_type": "execute_result"
    }
   ],
   "source": [
    "len(df)"
   ]
  },
  {
   "cell_type": "code",
   "execution_count": 25,
   "metadata": {},
   "outputs": [
    {
     "data": {
      "text/plain": [
       "59"
      ]
     },
     "execution_count": 25,
     "metadata": {},
     "output_type": "execute_result"
    }
   ],
   "source": [
    "len(df.Place.value_counts())"
   ]
  },
  {
   "cell_type": "code",
   "execution_count": 22,
   "metadata": {},
   "outputs": [],
   "source": [
    "# Download images\n",
    "\n",
    "for ID in df[\"ID\"]:\n",
    "    img_data = requests.get(image_url + str(ID) + \".jpg\").content\n",
    "    with open('images/{}.jpg'.format(ID), 'wb') as handler:\n",
    "        handler.write(img_data)"
   ]
  },
  {
   "cell_type": "code",
   "execution_count": 26,
   "metadata": {},
   "outputs": [
    {
     "data": {
      "text/plain": [
       "Loudon County (Tenn.)                          29\n",
       "Nashville (Tenn.)                              22\n",
       "Old Stone Fort State Park (Tenn.)              20\n",
       "                                               19\n",
       "Monroe County (Tenn.)                          18\n",
       "Davidson County (Tenn.)                        16\n",
       "Stewart County (Tenn.)                         14\n",
       "Fort Loudon State Park (Tenn.)                 14\n",
       "Knox County (Tenn.)                             8\n",
       "Fort Loudoun Lake (Tenn.)                       7\n",
       "Lauderdale County (Tenn.)                       6\n",
       "Fort Donelson (Tenn.)                           4\n",
       "Dover (Tenn.)                                   4\n",
       "Fort Mims (Ala.)                                3\n",
       "Fort Ellis (Mont.)                              3\n",
       "Fort Henry (Tenn.)                              3\n",
       "Fort Loudon State Historic Area (Tenn.)         2\n",
       "Kingsport (Tenn.)                               2\n",
       "Seymour (Tenn.)                                 2\n",
       "Ripley (Tenn.)                                  2\n",
       "Chattanooga (Tenn.)                             2\n",
       "Memphis (Tenn.)                                 2\n",
       "Fort Pillow (Tenn.)                             2\n",
       "Knoxville (Tenn.)                               2\n",
       "Boston (Mass.)                                  2\n",
       "Guthrie (Ky.)                                   2\n",
       "Manchester (Tenn.)                              2\n",
       "Nashville (Tenn.)?                              1\n",
       "near Manchester (Tenn.)                         1\n",
       "Louisiana                                       1\n",
       "Fort Oglethorpe (Ga.)                           1\n",
       "Meigs County (Tenn.)                            1\n",
       "Fort Sheridan (Ill.)                            1\n",
       "Benton (Tenn.)                                  1\n",
       "Fort Dodge (Iowa)                               1\n",
       "Maryville (Tenn.)                               1\n",
       "Tennessee                                       1\n",
       "Hernando (Miss.)                                1\n",
       "Matamoros (Mex.)                                1\n",
       "Jackson County (Tenn.)                          1\n",
       "New Orleans (La.)                               1\n",
       "Williamsburg (Tenn.)                            1\n",
       "Fort Smith (Ark.)                               1\n",
       "Old French Fort (Ala.)                          1\n",
       "Coal Creek (Tenn.)                              1\n",
       "Cumberland River (Tenn.)                        1\n",
       "Portsmouth (Ohio)                               1\n",
       "Tenn.                                           1\n",
       "Fort Campbell (Ky.)                             1\n",
       "Fort Mackinac (Mich.)                           1\n",
       "Bolivar (Tenn.)                                 1\n",
       "Warrior's Path State Park (Tenn.)               1\n",
       "Pulaski (Tenn.)                                 1\n",
       "Point Pleasant (W. Va.)                         1\n",
       "Great Smoky Mountains National Park (Tenn.)     1\n",
       "Washington, D. C.                               1\n",
       "Montgomery County (Tenn.)                       1\n",
       "Fort Jackson (S.C.)                             1\n",
       "Fort Gordon (Ga.)                               1\n",
       "Name: Place, dtype: int64"
      ]
     },
     "execution_count": 26,
     "metadata": {},
     "output_type": "execute_result"
    }
   ],
   "source": [
    "df.Place.value_counts()"
   ]
  },
  {
   "cell_type": "code",
   "execution_count": null,
   "metadata": {},
   "outputs": [],
   "source": []
  }
 ],
 "metadata": {
  "kernelspec": {
   "display_name": "Python 3",
   "language": "python",
   "name": "python3"
  },
  "language_info": {
   "codemirror_mode": {
    "name": "ipython",
    "version": 3
   },
   "file_extension": ".py",
   "mimetype": "text/x-python",
   "name": "python",
   "nbconvert_exporter": "python",
   "pygments_lexer": "ipython3",
   "version": "3.7.3"
  }
 },
 "nbformat": 4,
 "nbformat_minor": 2
}
